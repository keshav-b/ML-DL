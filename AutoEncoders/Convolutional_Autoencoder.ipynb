{
  "nbformat": 4,
  "nbformat_minor": 0,
  "metadata": {
    "colab": {
      "name": "Convolutional Autoencoder.ipynb",
      "provenance": [],
      "collapsed_sections": [],
      "authorship_tag": "ABX9TyNSpooxNmtQQrEXJLDrp+z9",
      "include_colab_link": true
    },
    "kernelspec": {
      "name": "python3",
      "display_name": "Python 3"
    },
    "accelerator": "GPU"
  },
  "cells": [
    {
      "cell_type": "markdown",
      "metadata": {
        "id": "view-in-github",
        "colab_type": "text"
      },
      "source": [
        "<a href=\"https://colab.research.google.com/github/keshav-b/ML-DL-stuff/blob/master/AutoEncoders/Convolutional_Autoencoder.ipynb\" target=\"_parent\"><img src=\"https://colab.research.google.com/assets/colab-badge.svg\" alt=\"Open In Colab\"/></a>"
      ]
    },
    {
      "cell_type": "code",
      "metadata": {
        "id": "ugZheDSDCZfT"
      },
      "source": [
        "import numpy as np\n",
        "import torch\n",
        "import torch.nn as nn\n",
        "import torch.nn.functional as F\n",
        "import torch.optim as optim\n",
        "import matplotlib.pyplot as plt\n",
        "from torchvision import datasets, transforms"
      ],
      "execution_count": 1,
      "outputs": []
    },
    {
      "cell_type": "code",
      "metadata": {
        "id": "bWgcdjgPmdOI"
      },
      "source": [
        "# DATA\n",
        "\n",
        "transform = transforms.ToTensor()\n",
        "train_data = datasets.MNIST(root='data', train=True, download=True, transform=transform)\n",
        "test_data = datasets.MNIST(root='data', train=False, download=True, transform=transform)"
      ],
      "execution_count": null,
      "outputs": []
    },
    {
      "cell_type": "code",
      "metadata": {
        "id": "m2L5tde_nfA1"
      },
      "source": [
        "train_loader = torch.utils.data.DataLoader(train_data, batch_size=64)\n",
        "test_loader = torch.utils.data.DataLoader(test_data, batch_size=64)"
      ],
      "execution_count": 3,
      "outputs": []
    },
    {
      "cell_type": "code",
      "metadata": {
        "colab": {
          "base_uri": "https://localhost:8080/"
        },
        "id": "_UHUBxomph3c",
        "outputId": "eb781147-5b0a-4f1f-a516-e2be01e001a5"
      },
      "source": [
        "dataiter = iter(train_loader)\n",
        "images, labels = dataiter.next()\n",
        "images.shape"
      ],
      "execution_count": 4,
      "outputs": [
        {
          "output_type": "execute_result",
          "data": {
            "text/plain": [
              "torch.Size([64, 1, 28, 28])"
            ]
          },
          "metadata": {
            "tags": []
          },
          "execution_count": 4
        }
      ]
    },
    {
      "cell_type": "code",
      "metadata": {
        "id": "bFB-pTujDFEK"
      },
      "source": [
        "class ConvAutoencoder(nn.Module):\n",
        "  def __init__(self):\n",
        "    super(ConvAutoencoder, self).__init__()\n",
        "    self.conv1 = nn.Conv2d(1, 16, 3, stride=2, padding=1)\n",
        "    self.conv2 = nn.Conv2d(16, 32, 3, stride=2, padding=1)\n",
        "    self.conv3 = nn.Conv2d(32, 64, 7)\n",
        "\n",
        "    self.t_conv1 = nn.ConvTranspose2d(64, 32, 7)\n",
        "    self.t_conv2 = nn.ConvTranspose2d(32, 16, 3, stride=2, padding=1, output_padding=1)\n",
        "    self.t_conv3 = nn.ConvTranspose2d(16, 1, 3, stride=2, padding=1, output_padding=1)\n",
        "\n",
        "\n",
        "  def forward(self, x):\n",
        "    x = F.relu(self.conv1(x))\n",
        "    x = F.relu(self.conv2(x))\n",
        "    x = F.relu(self.conv3(x))\n",
        "    \n",
        "    x = F.relu(self.t_conv1(x))\n",
        "    x = F.relu(self.t_conv2(x))\n",
        "    x = F.sigmoid(self.t_conv3(x))\n",
        "  \n",
        "    return x"
      ],
      "execution_count": 5,
      "outputs": []
    },
    {
      "cell_type": "code",
      "metadata": {
        "id": "DfwSDYvCEorn"
      },
      "source": [
        "model = ConvAutoencoder()\n",
        "criterion = nn.MSELoss()\n",
        "optimizer = torch.optim.Adam(model.parameters(), lr=1e-5)"
      ],
      "execution_count": 6,
      "outputs": []
    },
    {
      "cell_type": "code",
      "metadata": {
        "colab": {
          "base_uri": "https://localhost:8080/"
        },
        "id": "MZCgfr_aGDzk",
        "outputId": "2e433477-5e3f-45bf-996e-c3a21409363b"
      },
      "source": [
        "def get_device():\n",
        "    if torch.cuda.is_available():\n",
        "        device = 'cuda:0'\n",
        "    else:\n",
        "        device = 'gpu'\n",
        "    return device\n",
        "\n",
        "device = get_device()\n",
        "print(device)\n",
        "model.to(device)"
      ],
      "execution_count": 7,
      "outputs": [
        {
          "output_type": "stream",
          "text": [
            "cuda:0\n"
          ],
          "name": "stdout"
        },
        {
          "output_type": "execute_result",
          "data": {
            "text/plain": [
              "ConvAutoencoder(\n",
              "  (conv1): Conv2d(1, 16, kernel_size=(3, 3), stride=(2, 2), padding=(1, 1))\n",
              "  (conv2): Conv2d(16, 32, kernel_size=(3, 3), stride=(2, 2), padding=(1, 1))\n",
              "  (conv3): Conv2d(32, 64, kernel_size=(7, 7), stride=(1, 1))\n",
              "  (t_conv1): ConvTranspose2d(64, 32, kernel_size=(7, 7), stride=(1, 1))\n",
              "  (t_conv2): ConvTranspose2d(32, 16, kernel_size=(3, 3), stride=(2, 2), padding=(1, 1), output_padding=(1, 1))\n",
              "  (t_conv3): ConvTranspose2d(16, 1, kernel_size=(3, 3), stride=(2, 2), padding=(1, 1), output_padding=(1, 1))\n",
              ")"
            ]
          },
          "metadata": {
            "tags": []
          },
          "execution_count": 7
        }
      ]
    },
    {
      "cell_type": "code",
      "metadata": {
        "colab": {
          "base_uri": "https://localhost:8080/"
        },
        "id": "OdmlrZFKFasU",
        "outputId": "3ab8d1cc-ae43-4ec9-9260-a0bdae8ba659"
      },
      "source": [
        "num_epochs = 20\n",
        "\n",
        "for epoch in range(num_epochs):\n",
        "    for data in train_loader:\n",
        "        img, _ = data\n",
        "        img = img.to(device)\n",
        "\n",
        "        optimizer.zero_grad()\n",
        "        output = model(img)\n",
        "        \n",
        "\n",
        "        loss = criterion(output, img)\n",
        "        loss.backward()\n",
        "\n",
        "        optimizer.step()\n",
        "        \n",
        "\n",
        "    print('Epoch: ', epoch+1, ' =====> Loss: ', loss.item())\n",
        "    "
      ],
      "execution_count": 8,
      "outputs": [
        {
          "output_type": "stream",
          "text": [
            "/usr/local/lib/python3.6/dist-packages/torch/nn/functional.py:1639: UserWarning: nn.functional.sigmoid is deprecated. Use torch.sigmoid instead.\n",
            "  warnings.warn(\"nn.functional.sigmoid is deprecated. Use torch.sigmoid instead.\")\n"
          ],
          "name": "stderr"
        },
        {
          "output_type": "stream",
          "text": [
            "Epoch:  1  =====> Loss:  0.07976958155632019\n",
            "Epoch:  2  =====> Loss:  0.06849028170108795\n",
            "Epoch:  3  =====> Loss:  0.06719329208135605\n",
            "Epoch:  4  =====> Loss:  0.06674908846616745\n",
            "Epoch:  5  =====> Loss:  0.06648143380880356\n",
            "Epoch:  6  =====> Loss:  0.06627903878688812\n",
            "Epoch:  7  =====> Loss:  0.06609903275966644\n",
            "Epoch:  8  =====> Loss:  0.06590502709150314\n",
            "Epoch:  9  =====> Loss:  0.06562376767396927\n",
            "Epoch:  10  =====> Loss:  0.06483840197324753\n",
            "Epoch:  11  =====> Loss:  0.06265711784362793\n",
            "Epoch:  12  =====> Loss:  0.058608293533325195\n",
            "Epoch:  13  =====> Loss:  0.05187022686004639\n",
            "Epoch:  14  =====> Loss:  0.04586489126086235\n",
            "Epoch:  15  =====> Loss:  0.0416276678442955\n",
            "Epoch:  16  =====> Loss:  0.038472022861242294\n",
            "Epoch:  17  =====> Loss:  0.03592417761683464\n",
            "Epoch:  18  =====> Loss:  0.033742547035217285\n",
            "Epoch:  19  =====> Loss:  0.03192228451371193\n",
            "Epoch:  20  =====> Loss:  0.030317207798361778\n"
          ],
          "name": "stdout"
        }
      ]
    },
    {
      "cell_type": "code",
      "metadata": {
        "colab": {
          "base_uri": "https://localhost:8080/"
        },
        "id": "W5mIqDLdF1II",
        "outputId": "ad23fafe-df76-4639-cc93-8ad23634f1fe"
      },
      "source": [
        "count = 1\n",
        "with torch.no_grad():\n",
        "  for data in test_loader:\n",
        "    images, _ = data\n",
        "    images = images.to(device)\n",
        "    outputs = model(images)\n",
        "    if count == 1: # for sample display\n",
        "      test_true = images\n",
        "      test_pref = outputs\n",
        "      count += 1 "
      ],
      "execution_count": 9,
      "outputs": [
        {
          "output_type": "stream",
          "text": [
            "/usr/local/lib/python3.6/dist-packages/torch/nn/functional.py:1639: UserWarning: nn.functional.sigmoid is deprecated. Use torch.sigmoid instead.\n",
            "  warnings.warn(\"nn.functional.sigmoid is deprecated. Use torch.sigmoid instead.\")\n"
          ],
          "name": "stderr"
        }
      ]
    },
    {
      "cell_type": "code",
      "metadata": {
        "colab": {
          "base_uri": "https://localhost:8080/",
          "height": 282
        },
        "id": "4_Oqu1kkN9ot",
        "outputId": "4d64ff9f-7860-4b41-fd75-545ddd677993"
      },
      "source": [
        "test_true = test_true.cpu()\n",
        "test_true = np.asarray(test_true) \n",
        "plt.imshow(test_true[0][0])"
      ],
      "execution_count": 10,
      "outputs": [
        {
          "output_type": "execute_result",
          "data": {
            "text/plain": [
              "<matplotlib.image.AxesImage at 0x7f456c3192e8>"
            ]
          },
          "metadata": {
            "tags": []
          },
          "execution_count": 10
        },
        {
          "output_type": "display_data",
          "data": {
            "image/png": "[encoded data removed]",
            "text/plain": [
              "<Figure size 432x288 with 1 Axes>"
            ]
          },
          "metadata": {
            "tags": [],
            "needs_background": "light"
          }
        }
      ]
    },
    {
      "cell_type": "code",
      "metadata": {
        "colab": {
          "base_uri": "https://localhost:8080/",
          "height": 282
        },
        "id": "NvSFURgrLLbt",
        "outputId": "24e24327-67fc-4afd-be28-1c2ff9b39b3b"
      },
      "source": [
        "test_true = test_pref.cpu()\n",
        "test_true = np.asarray(test_true) \n",
        "plt.imshow(test_true[0][0])"
      ],
      "execution_count": 11,
      "outputs": [
        {
          "output_type": "execute_result",
          "data": {
            "text/plain": [
              "<matplotlib.image.AxesImage at 0x7f456c2b7940>"
            ]
          },
          "metadata": {
            "tags": []
          },
          "execution_count": 11
        },
        {
          "output_type": "display_data",
          "data": {
            "image/png": "[encoded data removed]",
            "text/plain": [
              "<Figure size 432x288 with 1 Axes>"
            ]
          },
          "metadata": {
            "tags": [],
            "needs_background": "light"
          }
        }
      ]
    }
  ]
}
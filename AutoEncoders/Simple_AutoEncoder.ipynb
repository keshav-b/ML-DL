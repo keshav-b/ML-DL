{
  "nbformat": 4,
  "nbformat_minor": 0,
  "metadata": {
    "colab": {
      "name": "MNIST_AutoEncoder",
      "provenance": [],
      "collapsed_sections": [],
      "authorship_tag": "ABX9TyPDAu1+FxfvTEVXh+Xlrpm5",
      "include_colab_link": true
    },
    "kernelspec": {
      "name": "python3",
      "display_name": "Python 3"
    },
    "accelerator": "GPU"
  },
  "cells": [
    {
      "cell_type": "markdown",
      "metadata": {
        "id": "view-in-github",
        "colab_type": "text"
      },
      "source": [
        "<a href=\"https://colab.research.google.com/github/keshav-b/ML-DL-stuff/blob/master/AutoEncoders/MNIST_AutoEncoder.ipynb\" target=\"_parent\"><img src=\"https://colab.research.google.com/assets/colab-badge.svg\" alt=\"Open In Colab\"/></a>"
      ]
    },
    {
      "cell_type": "code",
      "metadata": {
        "id": "sOmVC5zZjlv6"
      },
      "source": [
        "import numpy as np\r\n",
        "import pandas as pd\r\n",
        "import os\r\n",
        "import matplotlib.pyplot as plt\r\n",
        "\r\n",
        "from keras.datasets import mnist\r\n",
        "from keras.layers import Input, Dense\r\n",
        "from keras.models import Model\r\n",
        "\r\n",
        "import cv2"
      ],
      "execution_count": 26,
      "outputs": []
    },
    {
      "cell_type": "code",
      "metadata": {
        "colab": {
          "base_uri": "https://localhost:8080/"
        },
        "id": "ZRgXOKejj--t",
        "outputId": "a490a22b-3659-4892-f80e-287cb2ffceae"
      },
      "source": [
        "(X_train, y_train), (X_test, y_test) = mnist.load_data()\r\n",
        "print(X_train.shape, X_test.shape)"
      ],
      "execution_count": null,
      "outputs": [
        {
          "output_type": "stream",
          "text": [
            "(60000, 28, 28) (10000, 28, 28)\n"
          ],
          "name": "stdout"
        }
      ]
    },
    {
      "cell_type": "code",
      "metadata": {
        "colab": {
          "base_uri": "https://localhost:8080/"
        },
        "id": "z--4ejVhkIhj",
        "outputId": "d4303c4e-c00b-4022-869e-0f643b1c4b4c"
      },
      "source": [
        "## PRE_PROCESS\r\n",
        "def pre_process(x):\r\n",
        "  x = x/255.0                       # normalise\r\n",
        "  x = x.reshape((len(x), 28*28))    # converting into 1D\r\n",
        "  return x\r\n",
        "\r\n",
        "x_train = pre_process(X_train)\r\n",
        "x_test = pre_process(X_test)  \r\n",
        "print(x_train.shape, x_test.shape)"
      ],
      "execution_count": null,
      "outputs": [
        {
          "output_type": "stream",
          "text": [
            "(60000, 784) (10000, 784)\n"
          ],
          "name": "stdout"
        }
      ]
    },
    {
      "cell_type": "code",
      "metadata": {
        "id": "w_1MMAGqk0n8"
      },
      "source": [
        "## AE Model\r\n",
        "\r\n",
        "# Dimentions\r\n",
        "input_dim, output_dim = 784, 784\r\n",
        "encode_dim = 100\r\n",
        "hidden_dim = 256                  \r\n",
        "\r\n",
        "# encoder\r\n",
        "input_layer = Input(shape=(input_dim, ), name=\"INPUT\")\r\n",
        "hidden_layer_1 = Dense(hidden_dim, activation='relu', name='HIDDEN_1')(input_layer)\r\n",
        "\r\n",
        "# code\r\n",
        "code_layer = Dense(encode_dim, activation='relu', name=\"CODE\")(hidden_layer_1)\r\n",
        "\r\n",
        "# decoder\r\n",
        "hidden_layer_2 = Dense(hidden_dim, activation='relu', name='HIDDEN_2')(code_layer)\r\n",
        "output_layer = Dense(output_dim, activation='sigmoid', name=\"OUTPUT\")(hidden_layer_2)"
      ],
      "execution_count": null,
      "outputs": []
    },
    {
      "cell_type": "code",
      "metadata": {
        "colab": {
          "base_uri": "https://localhost:8080/"
        },
        "id": "u1weYtBYn7C3",
        "outputId": "7af3fc86-4c60-47a9-b095-bdd76bedaa7a"
      },
      "source": [
        "model = Model(input_layer, output_layer)\r\n",
        "model.compile(optimizer=\"Adam\", loss='binary_crossentropy')\r\n",
        "model.summary()"
      ],
      "execution_count": null,
      "outputs": [
        {
          "output_type": "stream",
          "text": [
            "Model: \"model\"\n",
            "_________________________________________________________________\n",
            "Layer (type)                 Output Shape              Param #   \n",
            "=================================================================\n",
            "INPUT (InputLayer)           [(None, 784)]             0         \n",
            "_________________________________________________________________\n",
            "HIDDEN_1 (Dense)             (None, 256)               200960    \n",
            "_________________________________________________________________\n",
            "CODE (Dense)                 (None, 100)               25700     \n",
            "_________________________________________________________________\n",
            "HIDDEN_2 (Dense)             (None, 256)               25856     \n",
            "_________________________________________________________________\n",
            "OUTPUT (Dense)               (None, 784)               201488    \n",
            "=================================================================\n",
            "Total params: 454,004\n",
            "Trainable params: 454,004\n",
            "Non-trainable params: 0\n",
            "_________________________________________________________________\n"
          ],
          "name": "stdout"
        }
      ]
    },
    {
      "cell_type": "code",
      "metadata": {
        "colab": {
          "base_uri": "https://localhost:8080/"
        },
        "id": "8w-cQSDPoMVG",
        "outputId": "fc05595e-78c8-4e30-acbd-7610018aef87"
      },
      "source": [
        "model.fit(x_train, x_train, epochs=10)"
      ],
      "execution_count": null,
      "outputs": [
        {
          "output_type": "stream",
          "text": [
            "Epoch 1/10\n",
            "1875/1875 [==============================] - 5s 2ms/step - loss: 0.1607\n",
            "Epoch 2/10\n",
            "1875/1875 [==============================] - 3s 2ms/step - loss: 0.0829\n",
            "Epoch 3/10\n",
            "1875/1875 [==============================] - 3s 2ms/step - loss: 0.0769\n",
            "Epoch 4/10\n",
            "1875/1875 [==============================] - 3s 2ms/step - loss: 0.0744\n",
            "Epoch 5/10\n",
            "1875/1875 [==============================] - 3s 2ms/step - loss: 0.0730\n",
            "Epoch 6/10\n",
            "1875/1875 [==============================] - 3s 2ms/step - loss: 0.0717\n",
            "Epoch 7/10\n",
            "1875/1875 [==============================] - 3s 2ms/step - loss: 0.0711\n",
            "Epoch 8/10\n",
            "1875/1875 [==============================] - 3s 2ms/step - loss: 0.0705\n",
            "Epoch 9/10\n",
            "1875/1875 [==============================] - 3s 2ms/step - loss: 0.0700\n",
            "Epoch 10/10\n",
            "1875/1875 [==============================] - 3s 2ms/step - loss: 0.0698\n"
          ],
          "name": "stdout"
        },
        {
          "output_type": "execute_result",
          "data": {
            "text/plain": [
              "<tensorflow.python.keras.callbacks.History at 0x7fee31777400>"
            ]
          },
          "metadata": {
            "tags": []
          },
          "execution_count": 15
        }
      ]
    },
    {
      "cell_type": "code",
      "metadata": {
        "id": "TovuEdfFoR-u"
      },
      "source": [
        "decoded_data = model.predict(x_test)"
      ],
      "execution_count": null,
      "outputs": []
    },
    {
      "cell_type": "code",
      "metadata": {
        "id": "Pfzrss3aoeo-"
      },
      "source": [
        "get_encoded_data = Model(inputs=model.input, outputs=model.get_layer(\"CODE\").output)\r\n",
        "\r\n",
        "encoded_data = get_encoded_data.predict(x_test)"
      ],
      "execution_count": 27,
      "outputs": []
    },
    {
      "cell_type": "code",
      "metadata": {
        "colab": {
          "base_uri": "https://localhost:8080/",
          "height": 282
        },
        "id": "3iPbGMwgovB-",
        "outputId": "96fa38a7-dd4d-4c4d-dc3d-33e490cd539f"
      },
      "source": [
        "plt.imshow(X_test[0])"
      ],
      "execution_count": 31,
      "outputs": [
        {
          "output_type": "execute_result",
          "data": {
            "text/plain": [
              "<matplotlib.image.AxesImage at 0x7feda97a2518>"
            ]
          },
          "metadata": {
            "tags": []
          },
          "execution_count": 31
        },
        {
          "output_type": "display_data",
          "data": {
            "image/png": "[encoded data removed]",
            "text/plain": [
              "<Figure size 432x288 with 1 Axes>"
            ]
          },
          "metadata": {
            "tags": [],
            "needs_background": "light"
          }
        }
      ]
    },
    {
      "cell_type": "code",
      "metadata": {
        "id": "dmuoH_I2pWme",
        "colab": {
          "base_uri": "https://localhost:8080/",
          "height": 282
        },
        "outputId": "83b74471-db26-48b1-e0c4-faccfb6c11cb"
      },
      "source": [
        "decode0 = decoded_data[0].reshape((28,28))\r\n",
        "plt.imshow(decode0)"
      ],
      "execution_count": 41,
      "outputs": [
        {
          "output_type": "execute_result",
          "data": {
            "text/plain": [
              "<matplotlib.image.AxesImage at 0x7feda973a5c0>"
            ]
          },
          "metadata": {
            "tags": []
          },
          "execution_count": 41
        },
        {
          "output_type": "display_data",
          "data": {
            "image/png": "[encoded data removed]",
            "text/plain": [
              "<Figure size 432x288 with 1 Axes>"
            ]
          },
          "metadata": {
            "tags": [],
            "needs_background": "light"
          }
        }
      ]
    },
    {
      "cell_type": "code",
      "metadata": {
        "id": "fQ8de8T5q3R-"
      },
      "source": [
        ""
      ],
      "execution_count": null,
      "outputs": []
    }
  ]
}

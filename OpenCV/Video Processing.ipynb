{
 "cells": [
  {
   "cell_type": "code",
   "execution_count": 1,
   "metadata": {},
   "outputs": [],
   "source": [
    "import cv2"
   ]
  },
  {
   "cell_type": "markdown",
   "metadata": {},
   "source": [
    "# Live Video => save"
   ]
  },
  {
   "cell_type": "code",
   "execution_count": 2,
   "metadata": {},
   "outputs": [],
   "source": [
    "cap = cv2.VideoCapture(0)\n",
    "\n",
    "width = int(cap.get(cv2.CAP_PROP_FRAME_WIDTH))\n",
    "height = int(cap.get(cv2.CAP_PROP_FRAME_HEIGHT))\n",
    "\n",
    "fourcc = cv2.VideoWriter_fourcc(*'XVID')\n",
    "writer = cv2.VideoWriter('output.mp4',fourcc, 20.0, (width,height))\n",
    "\n",
    "while cap.isOpened():\n",
    "    \n",
    "    ret, frame = cap.read()\n",
    "    \n",
    "    writer.write(frame)\n",
    "\n",
    "\n",
    "    gray = cv2.cvtColor(frame, cv2.COLOR_BGR2GRAY)\n",
    "    cv2.imshow('frame', gray)\n",
    "\n",
    "    if (cv2.waitKey(1) & 0xFF) == ord('q'): \n",
    "        break\n",
    "        \n",
    "        \n",
    "cap.release()\n",
    "writer.release()\n",
    "cv2.destroyAllWindows()"
   ]
  },
  {
   "cell_type": "markdown",
   "metadata": {},
   "source": [
    "# Loading video"
   ]
  },
  {
   "cell_type": "code",
   "execution_count": 3,
   "metadata": {},
   "outputs": [],
   "source": [
    "import time\n",
    "\n",
    "cap = cv2.VideoCapture('output.mp4')\n",
    "\n",
    "\n",
    "while cap.isOpened():\n",
    "    \n",
    "    ret, frame = cap.read()\n",
    "    \n",
    "    if ret == True:\n",
    "        time.sleep(1/20)\n",
    "        cv2.imshow('frame', frame)\n",
    "        \n",
    "        if (cv2.waitKey(1) & 0xFF) == ord('q'):\n",
    "            break\n",
    "            \n",
    "            \n",
    "    else:\n",
    "        break\n",
    "        \n",
    "cap.release()\n",
    "cv2.destroyAllWindows()"
   ]
  },
  {
   "cell_type": "markdown",
   "metadata": {},
   "source": [
    "# Drawing on video - static"
   ]
  },
  {
   "cell_type": "code",
   "execution_count": null,
   "metadata": {},
   "outputs": [],
   "source": [
    "cap = cv2.VideoCapture(0)\n",
    "\n",
    "width = int(cap.get(cv2.CAP_PROP_FRAME_WIDTH))\n",
    "height = int(cap.get(cv2.CAP_PROP_FRAME_HEIGHT))\n",
    "\n",
    "\n",
    "x = width//2\n",
    "y = height//2\n",
    "\n",
    "a = width//4\n",
    "b = height//4\n",
    "\n",
    "while True:\n",
    "    ret, frame = cap.read()\n",
    "    \n",
    "    cv2.rectangle(frame, (x,y), (x+a, y+b), color=(255,0,0), thickness=4)\n",
    "    \n",
    "    cv2.imshow('frame', frame)\n",
    "    \n",
    "    if cv2.waitKey(1) & 0xFF == ord('q'):\n",
    "        break\n",
    "        \n",
    "cap.release()\n",
    "cv2.destroyAllWindows()"
   ]
  },
  {
   "cell_type": "markdown",
   "metadata": {},
   "source": [
    "# Drawing on video - interactive"
   ]
  },
  {
   "cell_type": "code",
   "execution_count": null,
   "metadata": {},
   "outputs": [],
   "source": [
    "# Callback function\n",
    "def draw(event, x, y, flags, param):\n",
    "    global tl,br, tl_clicked, br_clicked\n",
    "    \n",
    "    if event == cv2.EVENT_LBUTTONDOWN:\n",
    "    \n",
    "        if tl_clicked and br_clicked:  #RESET\n",
    "            tl = (0,0)\n",
    "            br = (0,0)\n",
    "            tl_clicked = False\n",
    "            br_clicked = False\n",
    "            \n",
    "        if tl_clicked == False:\n",
    "            tl = (x,y)\n",
    "            tl_clicked = True\n",
    "            \n",
    "        elif br_clicked == False:\n",
    "            br = (x,y)\n",
    "            br_clicked = True\n",
    "            \n",
    "    \n",
    "# global variables\n",
    "tl = (0,0)\n",
    "br = (0,0)\n",
    "tl_clicked = False\n",
    "br_clicked = False\n",
    "\n",
    "# connect to Callback \n",
    "cap = cv2.VideoCapture(0)\n",
    "cv2.namedWindow('Sample')\n",
    "cv2.setMouseCallback('Sample', draw)\n",
    "\n",
    "while True:\n",
    "    ret, frame = cap.read()\n",
    "    \n",
    "    # draw based on global variables\n",
    "    if tl_clicked:\n",
    "        cv2.circle(frame, center=tl, radius=5, color=(255, 0 ,0), thickness=-1)\n",
    "        \n",
    "    if tl_clicked and br_clicked:\n",
    "        cv2.rectangle(frame, tl, br, color=(255,0,0), thickness=4)\n",
    "    \n",
    "        \n",
    "\n",
    "    \n",
    "    cv2.imshow('Sample', frame)\n",
    "    \n",
    "    if cv2.waitKey(1) & 0xFF == ord('q'):\n",
    "        break\n",
    "        \n",
    "cap.release()\n",
    "cv2.destroyAllWindows()"
   ]
  }
 ],
 "metadata": {
  "kernelspec": {
   "display_name": "Python 3",
   "language": "python",
   "name": "python3"
  },
  "language_info": {
   "codemirror_mode": {
    "name": "ipython",
    "version": 3
   },
   "file_extension": ".py",
   "mimetype": "text/x-python",
   "name": "python",
   "nbconvert_exporter": "python",
   "pygments_lexer": "ipython3",
   "version": "3.8.5"
  }
 },
 "nbformat": 4,
 "nbformat_minor": 4
}

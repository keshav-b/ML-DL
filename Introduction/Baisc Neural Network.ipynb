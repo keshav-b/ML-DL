{
 "cells": [
  {
   "cell_type": "markdown",
   "metadata": {},
   "source": [
    "## Simple Neural Network using tensors"
   ]
  },
  {
   "cell_type": "code",
   "execution_count": 2,
   "metadata": {},
   "outputs": [],
   "source": [
    "import torch"
   ]
  },
  {
   "cell_type": "code",
   "execution_count": 3,
   "metadata": {},
   "outputs": [],
   "source": [
    "def activation(x):\n",
    "    return 1/(1+torch.exp(-x))"
   ]
  },
  {
   "cell_type": "code",
   "execution_count": 6,
   "metadata": {},
   "outputs": [],
   "source": [
    "# generating data\n",
    "torch.manual_seed(2)\n",
    "\n",
    "# tensor of 5 normal variables: 1 row 5 columns\n",
    "features = torch.randn((1,5))\n",
    "\n",
    "# matrix which is same as the shape of features\n",
    "weights = torch.randn_like(features)\n",
    "\n",
    "# bias term\n",
    "bias = torch.randn((1,1))"
   ]
  },
  {
   "cell_type": "code",
   "execution_count": 8,
   "metadata": {},
   "outputs": [
    {
     "name": "stdout",
     "output_type": "stream",
     "text": [
      "tensor([[0.5380]])\n"
     ]
    }
   ],
   "source": [
    "# output\n",
    "\n",
    "y = activation(torch.sum(features * weights)+bias)\n",
    "\n",
    "print(y)"
   ]
  },
  {
   "cell_type": "code",
   "execution_count": 17,
   "metadata": {},
   "outputs": [
    {
     "name": "stdout",
     "output_type": "stream",
     "text": [
      "tensor([[0.5380]])\n"
     ]
    }
   ],
   "source": [
    "# output using matrix multipication\n",
    "\n",
    "weights = weights.view(5,1)\n",
    "\n",
    "y1 = activation(torch.mm(features, weights) + bias)\n",
    "\n",
    "print(y1)"
   ]
  },
  {
   "cell_type": "markdown",
   "metadata": {},
   "source": [
    "## Multi Layer Network"
   ]
  },
  {
   "cell_type": "code",
   "execution_count": 30,
   "metadata": {},
   "outputs": [],
   "source": [
    "torch.manual_seed(2) \n",
    "\n",
    "# Features are 3 random normal variables\n",
    "features = torch.randn((1, 3))\n",
    "\n",
    "# Size of each layer\n",
    "n_input = features.shape[1]     # Number of input units, must match number of input features\n",
    "n_hidden = 2                    # Number of hidden units \n",
    "n_output = 1                    # Number of output units\n",
    "\n",
    "# Weights for inputs to hidden layer\n",
    "W1 = torch.randn(n_input, n_hidden)\n",
    "\n",
    "# Weights for hidden layer to output layer\n",
    "W2 = torch.randn(n_hidden, n_output)\n",
    "\n",
    "# and bias terms for hidden and output layers\n",
    "B1 = torch.randn((1, n_hidden))\n",
    "B2 = torch.randn((1, n_output))"
   ]
  },
  {
   "cell_type": "code",
   "execution_count": 31,
   "metadata": {},
   "outputs": [
    {
     "name": "stdout",
     "output_type": "stream",
     "text": [
      "tensor([[0.1900]])\n"
     ]
    }
   ],
   "source": [
    "h = activation(torch.mm(features, W1)+B1)\n",
    "y = activation(torch.mm(h, W2)+B2)\n",
    "print(y)\n"
   ]
  },
  {
   "cell_type": "markdown",
   "metadata": {},
   "source": [
    "## Functions Used\n",
    "\n",
    "`a = torch.randn((r,c))`: generates a random matrix with dims: rxc.\n",
    "\n",
    "`b = torch.randn_like(a)`: generates a tensor b with the same shape as that of a.\n",
    "\n",
    "`torch.sum(a * b)` : used for taking the sums.\n",
    "\n",
    "`a.shape()`: used for viewing the shape of tensors.\n",
    "\n",
    "`torch.mm(a,b)`: matrix multiplication\n",
    "\n",
    "`b = torch.from_numpy(a)`: get a tensor from a numpy array\n",
    "\n",
    "`b.numpy()`: tensor into a numpy array | **Memory is shared between the numpy array: 'a' and the tensor: 'b'**\n",
    "\n",
    "##### Changing the shape of the tensors\n",
    "* `a.reshape(x,y)`: creates a tensor and always copies memory of the source tensor.\n",
    "* `a.resize_(x,y)`: resizes the tensor and never copies memoyy | \"_\": in_place operation: not touching the data.(sometimes data is lost if the shape has more/ less elements than the initial tensor )\n",
    "* `a.view(x,y)`: view never copies memory ever."
   ]
  },
  {
   "cell_type": "code",
   "execution_count": null,
   "metadata": {},
   "outputs": [],
   "source": []
  }
 ],
 "metadata": {
  "kernelspec": {
   "display_name": "Python 3",
   "language": "python",
   "name": "python3"
  },
  "language_info": {
   "codemirror_mode": {
    "name": "ipython",
    "version": 3
   },
   "file_extension": ".py",
   "mimetype": "text/x-python",
   "name": "python",
   "nbconvert_exporter": "python",
   "pygments_lexer": "ipython3",
   "version": "3.8.1"
  }
 },
 "nbformat": 4,
 "nbformat_minor": 4
}
